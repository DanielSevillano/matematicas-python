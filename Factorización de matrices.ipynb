{
 "cells": [
  {
   "attachments": {},
   "cell_type": "markdown",
   "metadata": {},
   "source": [
    "# Factorización de matrices\n",
    "Los métodos implementados son los siguientes:\n",
    "- Factorización LU: `factorizacion_lu`.\n",
    "- Factorización de Cholesky: `factorizacion_cholesky`.\n",
    "- Factorización QR: `factorizacion_qr`."
   ]
  },
  {
   "cell_type": "code",
   "execution_count": 1,
   "metadata": {},
   "outputs": [],
   "source": [
    "import numpy as np\n",
    "from numpy.linalg import norm"
   ]
  },
  {
   "attachments": {},
   "cell_type": "markdown",
   "metadata": {},
   "source": [
    "## Factorización LU\n",
    "Dada $A \\in \\mathcal{M}_n(\\mathbb{C})$ inversible, se llama factorización LU a la descomposición, si es posible,\n",
    "$$A = LU,$$\n",
    "siendo $L \\in \\mathcal{M}_n(\\mathbb{C})$ triangular inferior, inversible y con unos en la diagonal principal, y $U \\in \\mathcal{M}_n(\\mathbb{C})$ triangular superior e inversible.\n",
    "\n",
    "Si todas las submatrices principales de $A$ son también inversibles, entonces la factorización LU existe y es única."
   ]
  },
  {
   "cell_type": "code",
   "execution_count": 2,
   "metadata": {},
   "outputs": [],
   "source": [
    "def factorizacion_lu(A):\n",
    "    m, n = np.shape(A)\n",
    "    if m != n:\n",
    "        print(\"La matriz no es cuadrada.\")\n",
    "        return None\n",
    "    \n",
    "    if A.dtype == complex:\n",
    "        L = np.eye(n, dtype =  complex)\n",
    "        U = np.array(A, dtype = complex)\n",
    "    else:\n",
    "        L = np.eye(n, dtype =  float)\n",
    "        U = np.array(A, dtype = float)\n",
    "\n",
    "    for k in range(n-1):\n",
    "        if abs(A[k, k]) < 1e-15:\n",
    "            print(\"No existe la factorización LU.\")\n",
    "            return None\n",
    "        else:\n",
    "            for i in range(k+1, n):\n",
    "                L[i, k] = U[i, k]/U[k, k]\n",
    "                U[i, k:] -= U[k, k:]*L[i, k]\n",
    "\n",
    "    return L, U"
   ]
  },
  {
   "attachments": {},
   "cell_type": "markdown",
   "metadata": {},
   "source": [
    "Realizamos la factorización LU de la matriz\n",
    "$$A = \\begin{pmatrix}\n",
    "2 & -1 & 4 & 0 \\\\\n",
    "4 & -1 & 5 & 1 \\\\\n",
    "-2 & 2 & -2 & 3 \\\\\n",
    "0 & 3 & -9 & 4\n",
    "\\end{pmatrix}.$$"
   ]
  },
  {
   "cell_type": "code",
   "execution_count": 3,
   "metadata": {},
   "outputs": [
    {
     "name": "stdout",
     "output_type": "stream",
     "text": [
      "Matriz L\n",
      " [[ 1.  0.  0.  0.]\n",
      " [ 2.  1.  0.  0.]\n",
      " [-1.  1.  1.  0.]\n",
      " [ 0.  3.  0.  1.]]\n",
      "Matriz U\n",
      " [[ 2. -1.  4.  0.]\n",
      " [ 0.  1. -3.  1.]\n",
      " [ 0.  0.  5.  2.]\n",
      " [ 0.  0.  0.  1.]]\n"
     ]
    }
   ],
   "source": [
    "A = np.array([\n",
    "    [2, -1, 4, 0],\n",
    "    [4, -1, 5, 1],\n",
    "    [-2, 2, -2, 3],\n",
    "    [0, 3, -9, 4]\n",
    "])\n",
    "\n",
    "L, U = factorizacion_lu(A)\n",
    "print(\"Matriz L\\n\", L)\n",
    "print(\"Matriz U\\n\", U)"
   ]
  },
  {
   "attachments": {},
   "cell_type": "markdown",
   "metadata": {},
   "source": [
    "## Factorización de Cholesky\n",
    "Dada $A \\in \\mathcal{M}_n(\\mathbb{C})$ hermítica e inversible, se llama factorización de Cholesky a la descomposición, si es posible,\n",
    "$$A = CC^\\ast,$$\n",
    "siendo $C \\in \\mathcal{M}_n(\\mathbb{C})$ triangular inferior e inversible.\n",
    "\n",
    "Si $A$ es definida positiva, entonces la factorización de Cholesky existe.\n",
    "Además, si se impone que todos los elementos diagonales de la matriz $C$ sean positivos, entonces la factorización es única."
   ]
  },
  {
   "cell_type": "code",
   "execution_count": 4,
   "metadata": {},
   "outputs": [],
   "source": [
    "def factorizacion_cholesky(A):\n",
    "    m, n = np.shape(A)\n",
    "    if m != n:\n",
    "        print(\"La matriz no es cuadrada.\")\n",
    "        return None\n",
    "\n",
    "    if A.dtype == complex:\n",
    "        C = np.zeros((n, n), complex)\n",
    "    else:\n",
    "        C = np.zeros((n, n), float)\n",
    "\n",
    "    for i in range(n):\n",
    "        C[i, i] = np.sqrt(A[i, i] - sum(abs(C[i, :i])**2))\n",
    "        if abs(C[i, i]) < 1e-15:\n",
    "            print(\"No existe la factorización de Cholesky.\")\n",
    "            return None\n",
    "        else:\n",
    "            for j in range(i+1, n):\n",
    "                C[j, i] = (A[i, j] - sum(C[i, :i]*C[j, :i]))/C[i, i]\n",
    "    \n",
    "    return C"
   ]
  },
  {
   "attachments": {},
   "cell_type": "markdown",
   "metadata": {},
   "source": [
    "Realizamos la factorización de Cholesky de la matriz\n",
    "$$ A = \\begin{pmatrix}\n",
    "1 & 2 & 3 & 4 \\\\\n",
    "2 & 5 & 1 & 10 \\\\\n",
    "3 & 1 & 35 & 5 \\\\\n",
    "4 & 10 & 5 & 45\n",
    "\\end{pmatrix}.$$"
   ]
  },
  {
   "cell_type": "code",
   "execution_count": 5,
   "metadata": {},
   "outputs": [
    {
     "name": "stdout",
     "output_type": "stream",
     "text": [
      "Matriz C\n",
      " [[ 1.  0.  0.  0.]\n",
      " [ 2.  1.  0.  0.]\n",
      " [ 3. -5.  1.  0.]\n",
      " [ 4.  2.  3.  4.]]\n"
     ]
    }
   ],
   "source": [
    "A = np.array([\n",
    "    [1, 2, 3, 4],\n",
    "    [2, 5, 1, 10],\n",
    "    [3, 1, 35, 5],\n",
    "    [4, 10, 5, 45]\n",
    "])\n",
    "\n",
    "C = factorizacion_cholesky(A)\n",
    "print(\"Matriz C\\n\", C)"
   ]
  },
  {
   "attachments": {},
   "cell_type": "markdown",
   "metadata": {},
   "source": [
    "## Factorización QR\n",
    "Dada $A \\in \\mathcal{M}_n(\\mathbb{C})$ inversible, se llama factorización QR a la descomposición, si es posible,\n",
    "$$A = QR,$$\n",
    "donde $Q \\in \\mathcal{M}_n(\\mathbb{C})$ es unitaria y $R \\in \\mathcal{M}_n(\\mathbb{C})$ es triangular superior e inversible.\n",
    "\n",
    "Si la matriz $A$ es inversible, entonces la factorización QR existe.\n",
    "Además, si se impone que todos los elementos diagonales de $R$ sean positivos, entonces la factorización es única."
   ]
  },
  {
   "cell_type": "code",
   "execution_count": 6,
   "metadata": {},
   "outputs": [],
   "source": [
    "def factorizacion_qr(A):\n",
    "    m, n = np.shape(A)\n",
    "    if m != n:\n",
    "        print(\"La matriz no es cuadrada.\")\n",
    "        return None\n",
    "\n",
    "    if A.dtype == complex:\n",
    "        Q = np.eye(n, dtype = complex)\n",
    "        R = np.array(A, dtype = complex)\n",
    "    else:\n",
    "        Q = np.eye(n, dtype = float)\n",
    "        R = np.array(A, dtype = float)\n",
    "\n",
    "    for k in range(n-1):\n",
    "        wk = np.copy(R[k:, k])\n",
    "        chi = norm(wk, 2)\n",
    "        if A.dtype == complex:\n",
    "            wk[0] += chi*np.exp(np.angle(wk[0])*1j)\n",
    "            vk = np.zeros((n, 1), dtype = complex)\n",
    "        else:\n",
    "            wk[0] += chi*np.sign(wk[0]) + chi*(wk[0] == 0)\n",
    "            vk = np.zeros((n, 1), dtype = float)\n",
    "        vk[k:, 0] = wk[:]\n",
    "        Hk = np.eye(n) - 2*(vk@vk.conjugate().T)/(vk.conjugate().T@vk)\n",
    "        Q = Q@np.transpose(Hk)\n",
    "        R = Hk@R\n",
    "        \n",
    "    return Q, R"
   ]
  },
  {
   "attachments": {},
   "cell_type": "markdown",
   "metadata": {},
   "source": [
    "Realizamos la factorización QR de la matriz\n",
    "$$ A = \\begin{pmatrix}\n",
    "12 & -51 & 4 \\\\\n",
    "6 & 167 & -68 \\\\\n",
    "-4 & 24 & -41\n",
    "\\end{pmatrix}.$$"
   ]
  },
  {
   "cell_type": "code",
   "execution_count": 7,
   "metadata": {},
   "outputs": [
    {
     "name": "stdout",
     "output_type": "stream",
     "text": [
      "Matriz Q\n",
      " [[-0.85714286  0.39428571  0.33142857]\n",
      " [-0.42857143 -0.90285714 -0.03428571]\n",
      " [ 0.28571429 -0.17142857  0.94285714]]\n",
      "Matriz R\n",
      " [[-1.40000000e+01 -2.10000000e+01  1.40000000e+01]\n",
      " [-5.57673565e-16 -1.75000000e+02  7.00000000e+01]\n",
      " [-5.08994556e-16 -7.64989650e-16 -3.50000000e+01]]\n"
     ]
    }
   ],
   "source": [
    "A = np.array([\n",
    "    [12, -51, 4],\n",
    "    [6, 167, -68],\n",
    "    [-4, 24, -41]\n",
    "])\n",
    "\n",
    "Q, R = factorizacion_qr(A)\n",
    "print(\"Matriz Q\\n\", Q)\n",
    "print(\"Matriz R\\n\", R)"
   ]
  }
 ],
 "metadata": {
  "kernelspec": {
   "display_name": "Python 3",
   "language": "python",
   "name": "python3"
  },
  "language_info": {
   "codemirror_mode": {
    "name": "ipython",
    "version": 3
   },
   "file_extension": ".py",
   "mimetype": "text/x-python",
   "name": "python",
   "nbconvert_exporter": "python",
   "pygments_lexer": "ipython3",
   "version": "3.11.4"
  },
  "orig_nbformat": 4
 },
 "nbformat": 4,
 "nbformat_minor": 2
}
