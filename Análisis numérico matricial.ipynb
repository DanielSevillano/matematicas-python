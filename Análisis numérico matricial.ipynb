{
 "cells": [
  {
   "attachments": {},
   "cell_type": "markdown",
   "metadata": {},
   "source": [
    "# Análisis numérico matricial\n",
    "Los métodos implementados son los siguientes:\n",
    "- Factorización LU: `factorizacion_lu`.\n",
    "- Factorización de Cholesky: `factorizacion_cholesky`."
   ]
  },
  {
   "cell_type": "code",
   "execution_count": 1,
   "metadata": {},
   "outputs": [],
   "source": [
    "from numpy import *"
   ]
  },
  {
   "attachments": {},
   "cell_type": "markdown",
   "metadata": {},
   "source": [
    "## Factorización LU\n",
    "Dada $A \\in \\mathcal{M}_n(\\mathbb{C})$ inversible, se llama factorización LU a la descomposición, si es posible,\n",
    "$$A = LU,$$\n",
    "siendo $L \\in \\mathcal{M}_n(\\mathbb{C})$ triangular inferior, inversible y con unos en la diagonal principal, y $U \\in \\mathcal{M}_n(\\mathbb{C})$ triangular superior e inversible.\n",
    "\n",
    "Si todas las submatrices principales de $A$ son también inversibles, entonces la factorización LU existe y es única."
   ]
  },
  {
   "cell_type": "code",
   "execution_count": 2,
   "metadata": {},
   "outputs": [],
   "source": [
    "def factorizacion_lu(A):\n",
    "    tolerancia = 1e-15\n",
    "    n = int(sqrt(size(A)))\n",
    "    \n",
    "    if A.dtype == complex:\n",
    "        L = eye(n, dtype =  complex)\n",
    "        U = array(A, dtype = complex)\n",
    "    else:\n",
    "        L = eye(n, dtype =  float)\n",
    "        U = array(A, dtype = float)\n",
    "\n",
    "    for k in range(n-1):\n",
    "        if abs(A[k, k]) < tolerancia:\n",
    "            return None\n",
    "        else:\n",
    "            for i in range(k+1, n):\n",
    "                L[i, k] = U[i, k]/U[k, k]\n",
    "                U[i, k:] -= U[k, k:]*L[i, k]\n",
    "\n",
    "    return L, U"
   ]
  },
  {
   "attachments": {},
   "cell_type": "markdown",
   "metadata": {},
   "source": [
    "Realizamos la factorización LU de la matriz\n",
    "$$A = \\begin{pmatrix}\n",
    "2 & -1 & 4 & 0 \\\\\n",
    "4 & -1 & 5 & 1 \\\\\n",
    "-2 & 2 & -2 & 3 \\\\\n",
    "0 & 3 & -9 & 4\n",
    "\\end{pmatrix}.$$"
   ]
  },
  {
   "cell_type": "code",
   "execution_count": 3,
   "metadata": {},
   "outputs": [
    {
     "name": "stdout",
     "output_type": "stream",
     "text": [
      "Matriz A\n",
      " [[ 2 -1  4  0]\n",
      " [ 4 -1  5  1]\n",
      " [-2  2 -2  3]\n",
      " [ 0  3 -9  4]]\n",
      "Matriz L\n",
      " [[ 1.  0.  0.  0.]\n",
      " [ 2.  1.  0.  0.]\n",
      " [-1.  1.  1.  0.]\n",
      " [ 0.  3.  0.  1.]]\n",
      "Matriz U\n",
      " [[ 2. -1.  4.  0.]\n",
      " [ 0.  1. -3.  1.]\n",
      " [ 0.  0.  5.  2.]\n",
      " [ 0.  0.  0.  1.]]\n"
     ]
    }
   ],
   "source": [
    "A = array([\n",
    "    [2, -1, 4, 0],\n",
    "    [4, -1, 5, 1],\n",
    "    [-2, 2, -2, 3],\n",
    "    [0, 3, -9, 4]\n",
    "])\n",
    "print(\"Matriz A\\n\", A)\n",
    "\n",
    "L, U = factorizacion_lu(A)\n",
    "print(\"Matriz L\\n\", L)\n",
    "print(\"Matriz U\\n\", U)"
   ]
  },
  {
   "attachments": {},
   "cell_type": "markdown",
   "metadata": {},
   "source": [
    "## Factorización de Cholesky\n",
    "Dada $A \\in \\mathcal{M}_n(\\mathbb{C})$ hermítica e inversible, se llama factorización de Cholesky a la descomposición, si es posible,\n",
    "$$A = CC^\\ast,$$\n",
    "siendo $C \\in \\mathcal{M}_n(\\mathbb{C})$ triangular inferior e inversible.\n",
    "\n",
    "Si $A$ es definida positiva, entonces la factorización de Cholesky existe.\n",
    "Además, si se impone que todos los elementos diagonales de la matriz $C$ sean positivos, entonces la factorización es única."
   ]
  },
  {
   "cell_type": "code",
   "execution_count": 4,
   "metadata": {},
   "outputs": [],
   "source": [
    "def factorizacion_cholesky(A):\n",
    "    tolerancia = 1e-15\n",
    "    n = int(sqrt(size(A)))\n",
    "\n",
    "    if A.dtype == complex:\n",
    "        C = zeros((n, n), complex)\n",
    "    else:\n",
    "        C = zeros((n, n), float)\n",
    "\n",
    "    for i in range(n):\n",
    "        C[i, i] = sqrt(A[i, i] - sum(abs(C[i, :i])**2))\n",
    "        if abs(C[i, i]) < tolerancia:\n",
    "            return None\n",
    "        else:\n",
    "            for j in range(i+1, n):\n",
    "                C[j, i] = (A[i, j] - sum(C[i, :i]*C[j, :i]))/C[i, i]\n",
    "    \n",
    "    return C"
   ]
  },
  {
   "attachments": {},
   "cell_type": "markdown",
   "metadata": {},
   "source": [
    "Realizamos la factorización de Cholesky de la matriz\n",
    "$$ A = \\begin{pmatrix}\n",
    "1 & 2 & 3 & 4 \\\\\n",
    "2 & 5 & 1 & 10 \\\\\n",
    "3 & 1 & 35 & 5 \\\\\n",
    "4 & 10 & 5 & 45\n",
    "\\end{pmatrix}.$$"
   ]
  },
  {
   "cell_type": "code",
   "execution_count": 5,
   "metadata": {},
   "outputs": [
    {
     "name": "stdout",
     "output_type": "stream",
     "text": [
      "Matriz A\n",
      " [[ 1  2  3  4]\n",
      " [ 2  5  1 10]\n",
      " [ 3  1 35  5]\n",
      " [ 4 10  5 45]]\n",
      "Matriz C\n",
      " [[ 1.  0.  0.  0.]\n",
      " [ 2.  1.  0.  0.]\n",
      " [ 3. -5.  1.  0.]\n",
      " [ 4.  2.  3.  4.]]\n"
     ]
    }
   ],
   "source": [
    "A = array([\n",
    "    [1, 2, 3, 4],\n",
    "    [2, 5, 1, 10],\n",
    "    [3, 1, 35, 5],\n",
    "    [4, 10, 5, 45]\n",
    "])\n",
    "print(\"Matriz A\\n\", A)\n",
    "\n",
    "C = factorizacion_cholesky(A)\n",
    "print(\"Matriz C\\n\", C)"
   ]
  }
 ],
 "metadata": {
  "kernelspec": {
   "display_name": "Python 3",
   "language": "python",
   "name": "python3"
  },
  "language_info": {
   "codemirror_mode": {
    "name": "ipython",
    "version": 3
   },
   "file_extension": ".py",
   "mimetype": "text/x-python",
   "name": "python",
   "nbconvert_exporter": "python",
   "pygments_lexer": "ipython3",
   "version": "3.11.4"
  },
  "orig_nbformat": 4
 },
 "nbformat": 4,
 "nbformat_minor": 2
}
