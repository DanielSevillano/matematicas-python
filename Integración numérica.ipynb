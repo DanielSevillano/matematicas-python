{
 "cells": [
  {
   "attachments": {},
   "cell_type": "markdown",
   "metadata": {},
   "source": [
    "# Integración numérica\n",
    "Las fórmulas implementadas son las siguientes:\n",
    "- Fórmulas de cuadratura.\n",
    "    - Fórmula del rectángulo a la izquierda: `rectangulo_izquierda`.\n",
    "    - Fórmula del rectángulo a la derecha: `rectangulo_derecha`.\n",
    "    - Fórmula del punto medio: `punto_medio`.\n",
    "    - Fórmula del trapecio: `trapecio`.\n",
    "    - Fórmula de Simpson: `simpson`.\n",
    "- Fórmulas de cuadratura compuestas.\n",
    "    - Fórmula del rectángulo a la izquierda compuesta: `rectangulo_izquierda_compuesta`.    \n",
    "    - Fórmula del rectángulo a la derecha compuesta: `rectangulo_derecha_compuesta`.\n",
    "    - Fórmula del punto medio compuesta: `punto_medio_compuesta`.\n",
    "    - Fórmula del trapecio compuesta: `trapecio_compuesta`.\n",
    "    - Fórmula de Simpson compuesta: `simpson_compuesta`."
   ]
  },
  {
   "cell_type": "code",
   "execution_count": 1,
   "metadata": {},
   "outputs": [],
   "source": [
    "import numpy as np\n",
    "from scipy.integrate import quad"
   ]
  },
  {
   "attachments": {},
   "cell_type": "markdown",
   "metadata": {},
   "source": [
    "## Problema propuesto\n",
    "Calcular la integral de la función $f(x) = e^{-x^2}$ en el intervalo $[0, 1]$.\n",
    "Es decir,\n",
    "$$\\int_0^1 e^{-x^2} dx.$$"
   ]
  },
  {
   "cell_type": "code",
   "execution_count": 2,
   "metadata": {},
   "outputs": [],
   "source": [
    "def f(x):\n",
    "    return np.exp(-x**2)\n",
    "\n",
    "exacta, cota = quad(f, 0, 1)"
   ]
  },
  {
   "attachments": {},
   "cell_type": "markdown",
   "metadata": {},
   "source": [
    "## Fórmula del rectángulo a la izquierda\n",
    "Sea $[a, b]$ un intervalo y sea $f: [a, b] \\to \\mathbb{R}$ una función.\n",
    "Entonces la integral de $f$ en $[a, b]$ se puede aproximar como\n",
    "$$\\int_a^b f(x)dx \\approx (b-a)f(a).$$"
   ]
  },
  {
   "cell_type": "code",
   "execution_count": 3,
   "metadata": {},
   "outputs": [],
   "source": [
    "def rectangulo_izquierda(f, a, b):\n",
    "    return (b-a)*f(a)"
   ]
  },
  {
   "attachments": {},
   "cell_type": "markdown",
   "metadata": {},
   "source": [
    "Aplicamos la fórmula del rectángulo a la izquierda a nuestro problema."
   ]
  },
  {
   "cell_type": "code",
   "execution_count": 4,
   "metadata": {},
   "outputs": [
    {
     "name": "stdout",
     "output_type": "stream",
     "text": [
      "Aproximación: 1.0\n",
      "Error: 0.2531758671875729\n"
     ]
    }
   ],
   "source": [
    "aproximacion = rectangulo_izquierda(f, 0, 1)\n",
    "print(\"Aproximación:\", aproximacion)\n",
    "print(\"Error:\", abs(aproximacion - exacta))"
   ]
  },
  {
   "attachments": {},
   "cell_type": "markdown",
   "metadata": {},
   "source": [
    "## Fórmula del rectángulo a la derecha\n",
    "Sea $[a, b]$ un intervalo y sea $f: [a, b] \\to \\mathbb{R}$ una función.\n",
    "Entonces la integral de $f$ en $[a, b]$ se puede aproximar como\n",
    "$$\\int_a^b f(x)dx \\approx (b-a)f(b).$$"
   ]
  },
  {
   "cell_type": "code",
   "execution_count": 5,
   "metadata": {},
   "outputs": [],
   "source": [
    "def rectangulo_derecha(f, a, b):\n",
    "    return (b-a)*f(b)"
   ]
  },
  {
   "attachments": {},
   "cell_type": "markdown",
   "metadata": {},
   "source": [
    "Aplicamos la fórmula del rectángulo a la derecha a nuestro problema."
   ]
  },
  {
   "cell_type": "code",
   "execution_count": 6,
   "metadata": {},
   "outputs": [
    {
     "name": "stdout",
     "output_type": "stream",
     "text": [
      "Aproximación: 0.36787944117144233\n",
      "Error: 0.37894469164098477\n"
     ]
    }
   ],
   "source": [
    "aproximacion = rectangulo_derecha(f, 0, 1)\n",
    "print(\"Aproximación:\", aproximacion)\n",
    "print(\"Error:\", abs(aproximacion - exacta))"
   ]
  },
  {
   "attachments": {},
   "cell_type": "markdown",
   "metadata": {},
   "source": [
    "## Fórmula del punto medio\n",
    "Sea $[a, b]$ un intervalo y sea $f: [a, b] \\to \\mathbb{R}$ una función.\n",
    "Entonces la integral de $f$ en $[a, b]$ se puede aproximar como\n",
    "$$\\int_a^b f(x)dx \\approx (b-a)f\\left(\\frac{a+b}{2}\\right).$$"
   ]
  },
  {
   "cell_type": "code",
   "execution_count": 7,
   "metadata": {},
   "outputs": [],
   "source": [
    "def punto_medio(f, a, b):\n",
    "    return (b-a)*f((a+b)/2)"
   ]
  },
  {
   "attachments": {},
   "cell_type": "markdown",
   "metadata": {},
   "source": [
    "Aplicamos la fórmula del punto medio a nuestro problema."
   ]
  },
  {
   "cell_type": "code",
   "execution_count": 8,
   "metadata": {},
   "outputs": [
    {
     "name": "stdout",
     "output_type": "stream",
     "text": [
      "Aproximación: 0.7788007830714049\n",
      "Error: 0.03197665025897778\n"
     ]
    }
   ],
   "source": [
    "aproximacion = punto_medio(f, 0, 1)\n",
    "print(\"Aproximación:\", aproximacion)\n",
    "print(\"Error:\", abs(aproximacion - exacta))"
   ]
  },
  {
   "attachments": {},
   "cell_type": "markdown",
   "metadata": {},
   "source": [
    "## Fórmula del trapecio\n",
    "Sea $[a, b]$ un intervalo y sea $f: [a, b] \\to \\mathbb{R}$ una función.\n",
    "Entonces la integral de $f$ en $[a, b]$ se puede aproximar como\n",
    "$$\\int_a^b f(x)dx \\approx \\frac{b-a}{2} (f(a) + f(b)).$$"
   ]
  },
  {
   "cell_type": "code",
   "execution_count": 9,
   "metadata": {},
   "outputs": [],
   "source": [
    "def trapecio(f, a, b):\n",
    "    return (b-a)/2 * (f(a) + f(b))"
   ]
  },
  {
   "attachments": {},
   "cell_type": "markdown",
   "metadata": {},
   "source": [
    "Aplicamos la fórmula del trapecio a nuestro problema."
   ]
  },
  {
   "cell_type": "code",
   "execution_count": 10,
   "metadata": {},
   "outputs": [
    {
     "name": "stdout",
     "output_type": "stream",
     "text": [
      "Aproximación: 0.6839397205857212\n",
      "Error: 0.06288441222670593\n"
     ]
    }
   ],
   "source": [
    "aproximacion = trapecio(f, 0, 1)\n",
    "print(\"Aproximación:\", aproximacion)\n",
    "print(\"Error:\", abs(aproximacion - exacta))"
   ]
  },
  {
   "attachments": {},
   "cell_type": "markdown",
   "metadata": {},
   "source": [
    "## Fórmula de Simpson\n",
    "Sea $[a, b]$ un intervalo y sea $f: [a, b] \\to \\mathbb{R}$ una función.\n",
    "Entonces la integral de $f$ en $[a, b]$ se puede aproximar como\n",
    "$$\\int_a^b f(x)dx \\approx \\frac{b-a}{6} \\left(f(a) + 4f\\left(\\frac{a+b}{2}\\right) +f(b)\\right).$$"
   ]
  },
  {
   "cell_type": "code",
   "execution_count": 11,
   "metadata": {},
   "outputs": [],
   "source": [
    "def simpson(f, a, b):\n",
    "    return (b-a)/6 * (f(a) + 4*f((a+b)/2) + f(b))"
   ]
  },
  {
   "attachments": {},
   "cell_type": "markdown",
   "metadata": {},
   "source": [
    "Aplicamos la fórmula de Simpson a nuestro problema."
   ]
  },
  {
   "cell_type": "code",
   "execution_count": 12,
   "metadata": {},
   "outputs": [
    {
     "name": "stdout",
     "output_type": "stream",
     "text": [
      "Aproximación: 0.7471804289095104\n",
      "Error: 0.00035629609708331955\n"
     ]
    }
   ],
   "source": [
    "aproximacion = simpson(f, 0, 1)\n",
    "print(\"Aproximación:\", aproximacion)\n",
    "print(\"Error:\", abs(aproximacion - exacta))"
   ]
  },
  {
   "attachments": {},
   "cell_type": "markdown",
   "metadata": {},
   "source": [
    "## Fórmula del rectángulo a la izquierda compuesta\n",
    "Sea $[a, b]$ un intervalo y sea $f: [a, b] \\to \\mathbb{R}$ una función.\n",
    "Sea $\\mathcal{P} = \\{x_0 = a, x_1, x_2, \\dots, x_N = b\\}$ una partición de $[a, b]$, entonces la integral de $f$ en $[a, b]$ se puede aproximar como\n",
    "$$\\int_a^b f(x)dx \\approx \\sum_{i=0}^{N-1} (x_{i+1} - x_i)f(x_i).$$"
   ]
  },
  {
   "cell_type": "code",
   "execution_count": 13,
   "metadata": {},
   "outputs": [],
   "source": [
    "def rectangulo_izquierda_compuesta(f, x):\n",
    "    N = len(x) - 1\n",
    "    s = 0\n",
    "    for i in range(N):\n",
    "        s += (x[i+1] - x[i]) * f(x[i])\n",
    "    return s"
   ]
  },
  {
   "attachments": {},
   "cell_type": "markdown",
   "metadata": {},
   "source": [
    "Aplicamos la fórmula del rectángulo a la izquierda compuesta a nuestro problema con la partición uniforme\n",
    "$$\\mathcal{P} = \\{x_0 = 0, x_1 = 0.1, x_2 = 0.2, \\dots, x_10 = 1\\}.$$"
   ]
  },
  {
   "cell_type": "code",
   "execution_count": 14,
   "metadata": {},
   "outputs": [
    {
     "name": "stdout",
     "output_type": "stream",
     "text": [
      "Aproximación: 0.7778168240731771\n",
      "Error: 0.030992691260749994\n"
     ]
    }
   ],
   "source": [
    "x = np.linspace(0, 1, 11)\n",
    "aproximacion = rectangulo_izquierda_compuesta(f, x)\n",
    "print(\"Aproximación:\", aproximacion)\n",
    "print(\"Error:\", abs(aproximacion - exacta))"
   ]
  },
  {
   "attachments": {},
   "cell_type": "markdown",
   "metadata": {},
   "source": [
    "## Fórmula del rectángulo a la derecha compuesta\n",
    "Sea $[a, b]$ un intervalo y sea $f: [a, b] \\to \\mathbb{R}$ una función.\n",
    "Sea $\\mathcal{P} = \\{x_0 = a, x_1, x_2, \\dots, x_N = b\\}$ una partición de $[a, b]$, entonces la integral de $f$ en $[a, b]$ se puede aproximar como\n",
    "$$\\int_a^b f(x)dx \\approx \\sum_{i=0}^{N-1} (x_{i+1} - x_i)f(x_{i+1}).$$"
   ]
  },
  {
   "cell_type": "code",
   "execution_count": 15,
   "metadata": {},
   "outputs": [],
   "source": [
    "def rectangulo_derecha_compuesta(f, x):\n",
    "    N = len(x) - 1\n",
    "    s = 0\n",
    "    for i in range(N):\n",
    "        s += (x[i+1] - x[i]) * f(x[i+1])\n",
    "    return s"
   ]
  },
  {
   "attachments": {},
   "cell_type": "markdown",
   "metadata": {},
   "source": [
    "Aplicamos la fórmula del rectángulo a la derecha compuesta a nuestro problema con la partición uniforme\n",
    "$$\\mathcal{P} = \\{x_0 = 0, x_1 = 0.1, x_2 = 0.2, \\dots, x_10 = 1\\}.$$"
   ]
  },
  {
   "cell_type": "code",
   "execution_count": 16,
   "metadata": {},
   "outputs": [
    {
     "name": "stdout",
     "output_type": "stream",
     "text": [
      "Aproximación: 0.7146047681903215\n",
      "Error: 0.03221936462210562\n"
     ]
    }
   ],
   "source": [
    "x = np.linspace(0, 1, 11)\n",
    "aproximacion = rectangulo_derecha_compuesta(f, x)\n",
    "print(\"Aproximación:\", aproximacion)\n",
    "print(\"Error:\", abs(aproximacion - exacta))"
   ]
  },
  {
   "attachments": {},
   "cell_type": "markdown",
   "metadata": {},
   "source": [
    "## Fórmula del punto medio compuesta\n",
    "Sea $[a, b]$ un intervalo y sea $f: [a, b] \\to \\mathbb{R}$ una función.\n",
    "Sea $\\mathcal{P} = \\{x_0 = a, x_1, x_2, \\dots, x_N = b\\}$ una partición de $[a, b]$, entonces la integral de $f$ en $[a, b]$ se puede aproximar como\n",
    "$$\\int_a^b f(x)dx \\approx \\sum_{i=0}^{N-1} (x_{i+1} - x_i)f\\left(\\frac{x_i + x_{i+1}}{2}\\right).$$"
   ]
  },
  {
   "cell_type": "code",
   "execution_count": 17,
   "metadata": {},
   "outputs": [],
   "source": [
    "def punto_medio_compuesta(f, x):\n",
    "    N = len(x) - 1\n",
    "    s = 0\n",
    "    for i in range(N):\n",
    "        s += (x[i+1] - x[i]) * f((x[i] + x[i+1])/2)\n",
    "    return s"
   ]
  },
  {
   "attachments": {},
   "cell_type": "markdown",
   "metadata": {},
   "source": [
    "Aplicamos la fórmula del punto medio compuesta a nuestro problema con la partición uniforme\n",
    "$$\\mathcal{P} = \\{x_0 = 0, x_1 = 0.1, x_2 = 0.2, \\dots, x_10 = 1\\}.$$"
   ]
  },
  {
   "cell_type": "code",
   "execution_count": 18,
   "metadata": {},
   "outputs": [
    {
     "name": "stdout",
     "output_type": "stream",
     "text": [
      "Aproximación: 0.7471308777479975\n",
      "Error: 0.00030674493557036886\n"
     ]
    }
   ],
   "source": [
    "x = np.linspace(0, 1, 11)\n",
    "aproximacion = punto_medio_compuesta(f, x)\n",
    "print(\"Aproximación:\", aproximacion)\n",
    "print(\"Error:\", abs(aproximacion - exacta))"
   ]
  },
  {
   "attachments": {},
   "cell_type": "markdown",
   "metadata": {},
   "source": [
    "## Fórmula del trapecio compuesta\n",
    "Sea $[a, b]$ un intervalo y sea $f: [a, b] \\to \\mathbb{R}$ una función.\n",
    "Sea $\\mathcal{P} = \\{x_0 = a, x_1, x_2, \\dots, x_N = b\\}$ una partición de $[a, b]$, entonces la integral de $f$ en $[a, b]$ se puede aproximar como\n",
    "$$\\int_a^b f(x)dx \\approx \\sum_{i=0}^{N-1} (x_{i+1} - x_i)\\frac{f(x_i) + f(x_{i+1})}{2}.$$"
   ]
  },
  {
   "cell_type": "code",
   "execution_count": 19,
   "metadata": {},
   "outputs": [],
   "source": [
    "def trapecio_compuesta(f, x):\n",
    "    N = len(x) - 1\n",
    "    s = 0\n",
    "    for i in range(N):\n",
    "        s += (x[i+1] - x[i]) * (f(x[i]) + f(x[i+1]))/2\n",
    "    return s"
   ]
  },
  {
   "attachments": {},
   "cell_type": "markdown",
   "metadata": {},
   "source": [
    "Aplicamos la fórmula del trapecio compuesta a nuestro problema con la partición uniforme\n",
    "$$\\mathcal{P} = \\{x_0 = 0, x_1 = 0.1, x_2 = 0.2, \\dots, x_10 = 1\\}.$$"
   ]
  },
  {
   "cell_type": "code",
   "execution_count": 20,
   "metadata": {},
   "outputs": [
    {
     "name": "stdout",
     "output_type": "stream",
     "text": [
      "Aproximación: 0.7462107961317496\n",
      "Error: 0.0006133366806775342\n"
     ]
    }
   ],
   "source": [
    "x = np.linspace(0, 1, 11)\n",
    "aproximacion = trapecio_compuesta(f, x)\n",
    "print(\"Aproximación:\", aproximacion)\n",
    "print(\"Error:\", abs(aproximacion - exacta))"
   ]
  },
  {
   "attachments": {},
   "cell_type": "markdown",
   "metadata": {},
   "source": [
    "## Fórmula de Simpson compuesta\n",
    "Sea $[a, b]$ un intervalo y sea $f: [a, b] \\to \\mathbb{R}$ una función.\n",
    "Sea $\\mathcal{P} = \\{x_0 = a, x_1, x_2, \\dots, x_N = b\\}$ una partición de $[a, b]$, entonces la integral de $f$ en $[a, b]$ se puede aproximar como\n",
    "$$\\int_a^b f(x)dx \\approx \\sum_{i=0}^{N-1} \\frac{x_{i+1} - x_i}{6} \\left(f(x_i) + 4f\\left(\\frac{x_i + x_{i+1}}{2}\\right) + f(x_{i+1})\\right).$$"
   ]
  },
  {
   "cell_type": "code",
   "execution_count": 21,
   "metadata": {},
   "outputs": [],
   "source": [
    "def simpson_compuesta(f, x):\n",
    "    N = len(x) - 1\n",
    "    s = 0\n",
    "    for i in range(N):\n",
    "        s += (x[i+1] - x[i])/6 * (f(x[i]) + 4*f((x[i] + x[i+1])/2) + f(x[i+1]))\n",
    "    return s"
   ]
  },
  {
   "attachments": {},
   "cell_type": "markdown",
   "metadata": {},
   "source": [
    "Aplicamos la fórmula de Simpson compuesta a nuestro problema con la partición uniforme\n",
    "$$\\mathcal{P} = \\{x_0 = 0, x_1 = 0.1, x_2 = 0.2, \\dots, x_10 = 1\\}.$$"
   ]
  },
  {
   "cell_type": "code",
   "execution_count": 22,
   "metadata": {},
   "outputs": [
    {
     "name": "stdout",
     "output_type": "stream",
     "text": [
      "Aproximación: 0.7468241838759148\n",
      "Error: 5.106348766048541e-08\n"
     ]
    }
   ],
   "source": [
    "x = np.linspace(0, 1, 11)\n",
    "aproximacion = simpson_compuesta(f, x)\n",
    "print(\"Aproximación:\", aproximacion)\n",
    "print(\"Error:\", abs(aproximacion - exacta))"
   ]
  }
 ],
 "metadata": {
  "kernelspec": {
   "display_name": "Python 3",
   "language": "python",
   "name": "python3"
  },
  "language_info": {
   "codemirror_mode": {
    "name": "ipython",
    "version": 3
   },
   "file_extension": ".py",
   "mimetype": "text/x-python",
   "name": "python",
   "nbconvert_exporter": "python",
   "pygments_lexer": "ipython3",
   "version": "3.11.4"
  },
  "orig_nbformat": 4
 },
 "nbformat": 4,
 "nbformat_minor": 2
}
