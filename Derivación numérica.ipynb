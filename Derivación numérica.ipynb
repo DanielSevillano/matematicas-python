{
 "cells": [
  {
   "attachments": {},
   "cell_type": "markdown",
   "metadata": {},
   "source": [
    "# Derivación numérica\n",
    "Las fórmulas implementadas son las siguientes:\n",
    "- Aproximación descentrada a la derecha: `descentrada_derecha`.\n",
    "- Aproximación descentrada a la izquierda: `descentrada_izquierda`.\n",
    "- Aproximación centrada: `centrada`.\n",
    "- Aproximación de la segunda derivada: `derivada_segunda`."
   ]
  },
  {
   "cell_type": "code",
   "execution_count": 1,
   "metadata": {},
   "outputs": [],
   "source": [
    "from numpy import exp"
   ]
  },
  {
   "attachments": {},
   "cell_type": "markdown",
   "metadata": {},
   "source": [
    "## Problema propuesto\n",
    "Calcular la primera y la segunda derivada de la función $f(x) = -e^{-x}$ en $x = -1$.\n",
    "Los resultados exactos son los siguientes:\n",
    "\\begin{align*}\n",
    "    f'(x) = e^{-x} & \\Rightarrow f'(-1) = e, \\\\\n",
    "    f''(x) = -e^{-x} & \\Rightarrow f''(-1) = -e.\n",
    "\\end{align*}"
   ]
  },
  {
   "cell_type": "code",
   "execution_count": 2,
   "metadata": {},
   "outputs": [],
   "source": [
    "def f(x):\n",
    "    return -exp(-x)"
   ]
  },
  {
   "attachments": {},
   "cell_type": "markdown",
   "metadata": {},
   "source": [
    "## Aproximación descentrada a la derecha\n",
    "Sea $f$ una función y sea $c$ perteneciente al dominio de $f$.\n",
    "Sea $h > 0$ tal que $c+h$ también pertenezca al dominio de $f$.\n",
    "Entonces la derivada de $f$ en $c$ se puede aproximar como\n",
    "$$f'(c) \\approx \\frac{f(c+h) - f(c)}{h}.$$"
   ]
  },
  {
   "cell_type": "code",
   "execution_count": 3,
   "metadata": {},
   "outputs": [],
   "source": [
    "def descentrada_derecha(f, c, h = 0.1):\n",
    "    return (f(c+h) - f(c))/h"
   ]
  },
  {
   "attachments": {},
   "cell_type": "markdown",
   "metadata": {},
   "source": [
    "Aplicamos la aproximación descentrada a la derecha a nuestro problema."
   ]
  },
  {
   "cell_type": "code",
   "execution_count": 4,
   "metadata": {},
   "outputs": [
    {
     "name": "stdout",
     "output_type": "stream",
     "text": [
      "Aproximación: 2.5867871730209524\n",
      "Error: 0.1314946554380927\n"
     ]
    }
   ],
   "source": [
    "aproximacion = descentrada_derecha(f, -1)\n",
    "print(\"Aproximación:\", aproximacion)\n",
    "print(\"Error:\", abs(aproximacion - exp(1)))"
   ]
  },
  {
   "attachments": {},
   "cell_type": "markdown",
   "metadata": {},
   "source": [
    "## Aproximación descentrada a la izquierda\n",
    "Sea $f$ una función y sea $c$ perteneciente al dominio de $f$.\n",
    "Sea $h > 0$ tal que $c-h$ también pertenezca al dominio de $f$.\n",
    "Entonces la derivada de $f$ en $c$ se puede aproximar como\n",
    "$$f'(c) \\approx \\frac{f(c) - f(c-h)}{h}.$$"
   ]
  },
  {
   "cell_type": "code",
   "execution_count": 5,
   "metadata": {},
   "outputs": [],
   "source": [
    "def descentrada_izquierda(f, c, h = 0.1):\n",
    "    return (f(c) - f(c-h))/h"
   ]
  },
  {
   "attachments": {},
   "cell_type": "markdown",
   "metadata": {},
   "source": [
    "Aplicamos la aproximación descentrada a la izquierda a nuestro problema."
   ]
  },
  {
   "cell_type": "code",
   "execution_count": 6,
   "metadata": {},
   "outputs": [
    {
     "name": "stdout",
     "output_type": "stream",
     "text": [
      "Aproximación: 2.858841954873883\n",
      "Error: 0.14056012641483795\n"
     ]
    }
   ],
   "source": [
    "aproximacion = descentrada_izquierda(f, -1)\n",
    "print(\"Aproximación:\", aproximacion)\n",
    "print(\"Error:\", abs(aproximacion - exp(1)))"
   ]
  },
  {
   "attachments": {},
   "cell_type": "markdown",
   "metadata": {},
   "source": [
    "## Aproximación centrada\n",
    "Sea $f$ una función y sea $c$ perteneciente al dominio de $f$.\n",
    "Sea $h > 0$ tal que $c-h$ y $c+h$ también pertenezcan al dominio de $f$.\n",
    "Entonces la derivada de $f$ en $c$ se puede aproximar como\n",
    "$$f'(c) \\approx \\frac{f(c+h) - f(c-h)}{2h}.$$"
   ]
  },
  {
   "cell_type": "code",
   "execution_count": 7,
   "metadata": {},
   "outputs": [],
   "source": [
    "def centrada(f, c, h = 0.1):\n",
    "    return (f(c+h) - f(c-h))/(2*h)"
   ]
  },
  {
   "attachments": {},
   "cell_type": "markdown",
   "metadata": {},
   "source": [
    "Aplicamos la aproximación centrada a nuestro problema."
   ]
  },
  {
   "cell_type": "code",
   "execution_count": 8,
   "metadata": {},
   "outputs": [
    {
     "name": "stdout",
     "output_type": "stream",
     "text": [
      "Aproximación: 2.7228145639474177\n",
      "Error: 0.00453273548837263\n"
     ]
    }
   ],
   "source": [
    "aproximacion = centrada(f, -1)\n",
    "print(\"Aproximación:\", aproximacion)\n",
    "print(\"Error:\", abs(aproximacion - exp(1)))"
   ]
  },
  {
   "attachments": {},
   "cell_type": "markdown",
   "metadata": {},
   "source": [
    "## Aproximación de la segunda derivada\n",
    "Sea $f$ una función y sea $c$ perteneciente al dominio de $f$.\n",
    "Sea $h > 0$ tal que $c-h$ y $c+h$ también pertenezcan al dominio de $f$.\n",
    "Entonces la segunda derivada de $f$ en $c$ se puede aproximar como\n",
    "$$f'(c) \\approx \\frac{f(c-h) - 2f(c) + f(c+h)}{h^2}.$$"
   ]
  },
  {
   "cell_type": "code",
   "execution_count": 9,
   "metadata": {},
   "outputs": [],
   "source": [
    "def derivada_segunda(f, c, h = 0.1):\n",
    "    return (f(c-h) - 2*f(c) + f(c+h))/h**2"
   ]
  },
  {
   "attachments": {},
   "cell_type": "markdown",
   "metadata": {},
   "source": [
    "Aplicamos la aproximación de la segunda derivada a nuestro problema."
   ]
  },
  {
   "cell_type": "code",
   "execution_count": 10,
   "metadata": {},
   "outputs": [
    {
     "name": "stdout",
     "output_type": "stream",
     "text": [
      "Aproximación: -2.720547818529306\n",
      "Error: 0.002265990070260848\n"
     ]
    }
   ],
   "source": [
    "aproximacion = derivada_segunda(f, -1)\n",
    "print(\"Aproximación:\", aproximacion)\n",
    "print(\"Error:\", abs(aproximacion + exp(1)))"
   ]
  }
 ],
 "metadata": {
  "kernelspec": {
   "display_name": "Python 3",
   "language": "python",
   "name": "python3"
  },
  "language_info": {
   "codemirror_mode": {
    "name": "ipython",
    "version": 3
   },
   "file_extension": ".py",
   "mimetype": "text/x-python",
   "name": "python",
   "nbconvert_exporter": "python",
   "pygments_lexer": "ipython3",
   "version": "3.11.4"
  },
  "orig_nbformat": 4
 },
 "nbformat": 4,
 "nbformat_minor": 2
}
