{
 "cells": [
  {
   "attachments": {},
   "cell_type": "markdown",
   "metadata": {},
   "source": [
    "# Cálculo de autovalores y autovectores\n",
    "Los métodos implementados son los siguientes:\n",
    "- Método de la potencia: `potencia`.\n",
    "- Método de la potencia inversa: `potencia_inversa`.\n",
    "- Método de la potencia desplazada: `potencia_desplazada`.\n",
    "- Método de la potencia inversa desplazada: `potencia_inversa_desplazada`."
   ]
  },
  {
   "cell_type": "code",
   "execution_count": 1,
   "metadata": {},
   "outputs": [],
   "source": [
    "import numpy as np\n",
    "from numpy.linalg import eig, norm, solve"
   ]
  },
  {
   "attachments": {},
   "cell_type": "markdown",
   "metadata": {},
   "source": [
    "## Problemas propuestos"
   ]
  },
  {
   "attachments": {},
   "cell_type": "markdown",
   "metadata": {},
   "source": [
    "### Problema 1\n",
    "Hallar información sobre los autovectores de la matriz\n",
    "$$A = \\begin{pmatrix}\n",
    "    -33 & 36 & -27 & 18 & -9 \\\\\n",
    "    -33 & 51 & -45 & 30 & -15 \\\\\n",
    "    -19 & 38 & -45 & 34 & -17 \\\\\n",
    "    -9 & 18 & -27 & 27 & 15 \\\\\n",
    "    -3 & 6 & -9 & 12 & -9\n",
    "\\end{pmatrix}.$$"
   ]
  },
  {
   "cell_type": "code",
   "execution_count": 2,
   "metadata": {},
   "outputs": [
    {
     "name": "stdout",
     "output_type": "stream",
     "text": [
      "Autovalores\n",
      " [ 12.   6. -15.  -9.  -3.]\n",
      "Autovectores\n",
      " [[ 4.08248290e-01 -7.67654634e-15 -8.94427191e-01  9.49240207e-15\n",
      "   1.53647880e-15]\n",
      " [ 8.16496581e-01 -1.39299896e-14 -4.47213595e-01  4.08248290e-01\n",
      "   2.89219539e-15]\n",
      " [ 4.08248290e-01 -4.08248290e-01 -1.08161513e-15  8.16496581e-01\n",
      "   4.71990220e-15]\n",
      " [ 2.42114535e-16 -8.16496581e-01 -8.76481225e-16  4.08248290e-01\n",
      "   4.47213595e-01]\n",
      " [ 9.77469767e-17 -4.08248290e-01 -3.72970734e-17 -1.32364172e-15\n",
      "   8.94427191e-01]]\n"
     ]
    }
   ],
   "source": [
    "A = np.array([\n",
    "    [-33, 36, -27, 18, -9],\n",
    "    [-33, 51, -45, 30, -15],\n",
    "    [-19, 38, -45, 34, -17],\n",
    "    [-9, 18, -27, 27, -15],\n",
    "    [-3, 6, -9, 12, -9]\n",
    "])\n",
    "\n",
    "autovalores, autovectores = eig(A)\n",
    "print(\"Autovalores\\n\", autovalores)\n",
    "print(\"Autovectores\\n\", autovectores)"
   ]
  },
  {
   "attachments": {},
   "cell_type": "markdown",
   "metadata": {},
   "source": [
    "## Problema 2\n",
    "Hallar todos los autovalores y autovectores de la matriz simétrica\n",
    "$$B = \\begin{pmatrix}\n",
    "    0 & 1 & 6 & 0 & 0 & 0 \\\\\n",
    "    1 & 0 & 2 & 7 & 0 & 0 \\\\\n",
    "    6 & 2 & 0 & 3 & 8 & 0 \\\\\n",
    "    0 & 7 & 3 & 0 & 4 & 9 \\\\\n",
    "    0 & 0 & 8 & 4 & 0 & 5 \\\\\n",
    "    0 & 0 & 0 & 9 & 5 & 0\n",
    "\\end{pmatrix}.$$"
   ]
  },
  {
   "cell_type": "code",
   "execution_count": 3,
   "metadata": {},
   "outputs": [
    {
     "name": "stdout",
     "output_type": "stream",
     "text": [
      "Autovalores\n",
      " [ 16.60600885 -12.1283007  -10.0647204   -2.46535845   5.94293604\n",
      "   2.10943466]\n",
      "Autovectores\n",
      " [[ 0.16934678  0.22443065 -0.27393137  0.67488298 -0.55695938  0.28327259]\n",
      " [ 0.2919696  -0.27590355 -0.38964313 -0.32988958  0.14870065  0.74556703]\n",
      " [ 0.42003409 -0.40767648  0.52444763 -0.22232315 -0.57644577 -0.02467033]\n",
      " [ 0.54843355  0.56245193  0.44952646  0.0832942   0.37050991  0.19125615]\n",
      " [ 0.46622115  0.30778629 -0.52551546 -0.38641188 -0.18661939 -0.47707232]\n",
      " [ 0.43761314 -0.54426411 -0.14090415  0.47961044  0.40409189 -0.31480296]]\n"
     ]
    }
   ],
   "source": [
    "B = np.array([\n",
    "    [0, 1, 6, 0, 0, 0],\n",
    "    [1, 0, 2, 7, 0, 0],\n",
    "    [6, 2, 0, 3, 8, 0],\n",
    "    [0, 7, 3, 0, 4, 9],\n",
    "    [0, 0, 8, 4, 0, 5],\n",
    "    [0, 0, 0, 9, 5, 0]\n",
    "])\n",
    "\n",
    "autovalores, autovectores = eig(B)\n",
    "print(\"Autovalores\\n\", autovalores)\n",
    "print(\"Autovectores\\n\", autovectores)"
   ]
  },
  {
   "attachments": {},
   "cell_type": "markdown",
   "metadata": {},
   "source": [
    "## Método de la potencia\n",
    "Sea $A \\in \\mathcal{M}_n(\\mathbb{C})$ y sea $x_0 \\in \\mathbb{C}^n \\setminus \\{0\\}$ unitario cualquiera.\n",
    "Para $k = 0, 1, 2, \\dots$, hacemos\n",
    "\\begin{align*}\n",
    "    y_{k+1} & = Ax_k, \\\\\n",
    "    x_{k+1} & = \\frac{y_{k+1}}{\\|y_{k+1}\\|}.\n",
    "\\end{align*}\n",
    "\n",
    "Bajo ciertas hipótesis, la sucesión $\\{x_k\\}$ converge hacia el autovector asociado al autovalor de mayor módulo de $A$."
   ]
  },
  {
   "cell_type": "code",
   "execution_count": 4,
   "metadata": {},
   "outputs": [],
   "source": [
    "def potencia(A, x0, tolerancia = 1e-7, iteraciones = 100):\n",
    "    x = x0\n",
    "    \n",
    "    iteracion = 0\n",
    "    error = 1\n",
    "    norma_anterior = 0\n",
    "\n",
    "    while iteracion < iteraciones and error >= tolerancia:\n",
    "        y = A@x\n",
    "        norma = norm(y)\n",
    "        x = y/norma\n",
    "        error = abs(norma - norma_anterior)\n",
    "\n",
    "        norma_anterior = norma\n",
    "        iteracion += 1\n",
    "\n",
    "    return x"
   ]
  },
  {
   "attachments": {},
   "cell_type": "markdown",
   "metadata": {},
   "source": [
    "Aplicamos el método de la potencia al primer problema para hallar el autovector asociado al autovalor de mayor módulo."
   ]
  },
  {
   "cell_type": "code",
   "execution_count": 5,
   "metadata": {},
   "outputs": [
    {
     "name": "stdout",
     "output_type": "stream",
     "text": [
      "[ 8.94427191e-01  4.47213595e-01 -6.78740694e-10 -3.15446760e-16\n",
      " -9.45290244e-17]\n",
      "Asociado al autovalor -15.000000032782548\n"
     ]
    }
   ],
   "source": [
    "x0 = np.array([1, 0, 0, 0, 0])\n",
    "x = potencia(A, x0)\n",
    "print(x)\n",
    "\n",
    "autovalor = np.transpose(x)@A@x/(np.transpose(x)@x)\n",
    "print(\"Asociado al autovalor\", autovalor)"
   ]
  },
  {
   "attachments": {},
   "cell_type": "markdown",
   "metadata": {},
   "source": [
    "## Método de la potencia inversa\n",
    "Sea $A \\in \\mathcal{M}_n(\\mathbb{C})$ invertible y sea $x_0 \\in \\mathbb{C}^n \\setminus \\{0\\}$ unitario cualquiera.\n",
    "Para $k = 0, 1, 2, \\dots$, hacemos\n",
    "\\begin{align*}\n",
    "    y_{k+1} & = A^{-1}x_k \\Leftrightarrow Ay_{k+1} = x_k, \\\\\n",
    "    x_{k+1} & = \\frac{y_{k+1}}{\\|y_{k+1}\\|}.\n",
    "\\end{align*}\n",
    "\n",
    "Bajo ciertas hipótesis, la sucesión $\\{x_k\\}$ converge hacia el autovector asociado al autovalor de mayor módulo de $A^{-1}$ o, equivalentemente, el autovalor de menor módulo de $A$."
   ]
  },
  {
   "cell_type": "code",
   "execution_count": 6,
   "metadata": {},
   "outputs": [],
   "source": [
    "def potencia_inversa(A, x0, tolerancia = 1e-7, iteraciones = 100):\n",
    "    x = x0\n",
    "    \n",
    "    iteracion = 0\n",
    "    error = 1\n",
    "    norma_anterior = 0\n",
    "\n",
    "    while iteracion < iteraciones and error >= tolerancia:\n",
    "        y = solve(A, x)\n",
    "        norma = norm(y)\n",
    "        x = y/norma\n",
    "        error = abs(norma - norma_anterior)\n",
    "\n",
    "        norma_anterior = norma\n",
    "        iteracion += 1\n",
    "\n",
    "    return x"
   ]
  },
  {
   "attachments": {},
   "cell_type": "markdown",
   "metadata": {},
   "source": [
    "Aplicamos el método de la potencia inversa al primer problema para hallar el autovector asociado al autovalor de menor módulo."
   ]
  },
  {
   "cell_type": "code",
   "execution_count": 7,
   "metadata": {},
   "outputs": [
    {
     "name": "stdout",
     "output_type": "stream",
     "text": [
      "[-4.72615066e-16  5.26733081e-13 -1.33269496e-08  4.47213580e-01\n",
      "  8.94427199e-01]\n",
      "Asociado al autovalor -3.00000021457814\n"
     ]
    }
   ],
   "source": [
    "x0 = np.array([1, 0, 0, 0, 0])\n",
    "x = potencia_inversa(A, x0)\n",
    "print(x)\n",
    "\n",
    "autovalor = np.transpose(x)@A@x/(np.transpose(x)@x)\n",
    "print(\"Asociado al autovalor\", autovalor)"
   ]
  },
  {
   "attachments": {},
   "cell_type": "markdown",
   "metadata": {},
   "source": [
    "## Método de la potencia desplazada\n",
    "Sea $A \\in \\mathcal{M}_n(\\mathbb{C})$, sea $x_0 \\in \\mathbb{C}^n \\setminus \\{0\\}$ unitario cualquiera y sea $\\mu \\in \\mathbb{C}$.\n",
    "Para $k = 0, 1, 2, \\dots$, hacemos\n",
    "\\begin{align*}\n",
    "    y_{k+1} & = (A - \\mu I)x_k, \\\\\n",
    "    x_{k+1} & = \\frac{y_{k+1}}{\\|y_{k+1}\\|}.\n",
    "\\end{align*}\n",
    "\n",
    "Bajo ciertas hipótesis, la sucesión $\\{x_k\\}$ converge hacia el autovector asociado al autovalor de mayor módulo de $A - \\mu I$ o, equivalentemente, el autuvalor más lejano de $\\mu$."
   ]
  },
  {
   "cell_type": "code",
   "execution_count": 8,
   "metadata": {},
   "outputs": [],
   "source": [
    "def potencia_desplazada(A, mu, x0, tolerancia = 1e-7, iteraciones = 100):\n",
    "    m, n = np.shape(A)\n",
    "    if m != n:\n",
    "        print(\"La matriz no es cuadrada.\")\n",
    "        return None\n",
    "    x = x0\n",
    "\n",
    "    iteracion = 0\n",
    "    error = 1\n",
    "    norma_anterior = 0\n",
    "\n",
    "    while iteracion < iteraciones and error >= tolerancia:\n",
    "        y = (A - mu*np.eye(n))@x\n",
    "        x = y/norm(y)\n",
    "\n",
    "        norma = norm(y)\n",
    "        x = y/norma\n",
    "        error = abs(norma - norma_anterior)\n",
    "\n",
    "        norma_anterior = norma\n",
    "        iteracion += 1\n",
    "\n",
    "    return x"
   ]
  },
  {
   "attachments": {},
   "cell_type": "markdown",
   "metadata": {},
   "source": [
    "Aplicamos el método de la potencia inversa desplazada al primer problema para hallar el autovector asociado al autovalor más lejano a -5."
   ]
  },
  {
   "cell_type": "code",
   "execution_count": 9,
   "metadata": {},
   "outputs": [
    {
     "name": "stdout",
     "output_type": "stream",
     "text": [
      "[-4.08248289e-01 -8.16496579e-01 -4.08248295e-01 -1.11860032e-08\n",
      " -5.59300154e-09]\n",
      "Asociado al autovalor 11.999999999921512\n"
     ]
    }
   ],
   "source": [
    "x0 = np.array([1, 0, 0, 0, 0])\n",
    "x = potencia_desplazada(A, -5, x0)\n",
    "print(x)\n",
    "\n",
    "autovalor = np.transpose(x)@A@x/(np.transpose(x)@x)\n",
    "print(\"Asociado al autovalor\", autovalor)"
   ]
  },
  {
   "attachments": {},
   "cell_type": "markdown",
   "metadata": {},
   "source": [
    "## Método de la potencia inversa desplazada\n",
    "Sea $A \\in \\mathcal{M}_n(\\mathbb{C})$, sea $x_0 \\in \\mathbb{C}^n \\setminus \\{0\\}$ unitario cualquiera y sea $\\mu \\notin sp(A)$.\n",
    "Para $k = 0, 1, 2, \\dots$, hacemos\n",
    "\\begin{align*}\n",
    "    y_{k+1} & = (A - \\mu I)^{-1}x_k \\Leftrightarrow (A - \\mu I)y_{k+1} = x_k, \\\\\n",
    "    x_{k+1} & = \\frac{y_{k+1}}{\\|y_{k+1}\\|}.\n",
    "\\end{align*}\n",
    "\n",
    "Bajo ciertas hipótesis, la sucesión $\\{x_k\\}$ converge hacia el autovector asociado al autovalor de mayor módulo de $(A - \\mu I)^{-1}$ o, equivalentemente, el autovalor más cercano a $\\mu$."
   ]
  },
  {
   "cell_type": "code",
   "execution_count": 10,
   "metadata": {},
   "outputs": [],
   "source": [
    "def potencia_inversa_desplazada(A, mu, x0, tolerancia = 1e-7, iteraciones = 100):\n",
    "    m, n = np.shape(A)\n",
    "    if m != n:\n",
    "        print(\"La matriz no es cuadrada.\")\n",
    "        return None\n",
    "    x = x0\n",
    "\n",
    "    iteracion = 0\n",
    "    error = 1\n",
    "    norma_anterior = 0\n",
    "\n",
    "    while iteracion < iteraciones and error >= tolerancia:\n",
    "        y = solve(A - mu*np.eye(n), x)\n",
    "        norma = norm(y)\n",
    "        x = y/norma\n",
    "        error = abs(norma - norma_anterior)\n",
    "\n",
    "        norma_anterior = norma\n",
    "        iteracion += 1\n",
    "\n",
    "    return x"
   ]
  },
  {
   "attachments": {},
   "cell_type": "markdown",
   "metadata": {},
   "source": [
    "Aplicamos el método de la potencia inversa desplazada al primer problema para hallar el autovector asociado al autovalor más cercano a 7."
   ]
  },
  {
   "cell_type": "code",
   "execution_count": 11,
   "metadata": {},
   "outputs": [
    {
     "name": "stdout",
     "output_type": "stream",
     "text": [
      "[-3.34436871e-09 -6.68873563e-09 -4.08248293e-01 -8.16496580e-01\n",
      " -4.08248290e-01]\n",
      "Asociado al autovalor 6.000000008195061\n"
     ]
    }
   ],
   "source": [
    "x0 = np.array([1, 0, 0, 0, 0])\n",
    "x = potencia_inversa_desplazada(A, 7, x0)\n",
    "print(x)\n",
    "\n",
    "autovalor = np.transpose(x)@A@x/(np.transpose(x)@x)\n",
    "print(\"Asociado al autovalor\", autovalor)"
   ]
  },
  {
   "attachments": {},
   "cell_type": "markdown",
   "metadata": {},
   "source": [
    "## Método de Jacobi\n",
    "Sea $A \\in \\mathcal{M}_n(\\mathbb{R})$ simétrica y sea $A_1 = A$.\n",
    "Para $k = 1, 2, \\dots$, elegimos el par $(p, q)$ de forma que\n",
    "$$|a^k_{pq}| = \\max_{i \\neq j} |a^k_{ij}|$$\n",
    "y construimos\n",
    "$$\\Omega_k = \\begin{pmatrix}\n",
    "    1 \\\\\n",
    "    & \\ddots \\\\\n",
    "    & & \\cos(\\theta_k) & \\dots & \\sin(\\theta_k) \\\\\n",
    "    & & \\vdots & \\ddots & \\vdots \\\\\n",
    "    & & -\\sin(\\theta_k) & \\dots & \\cos(\\theta_k) \\\\\n",
    "    & & & & & \\ddots \\\\\n",
    "    & & & & & & 1\n",
    "\\end{pmatrix},$$\n",
    "donde\n",
    "\\begin{align*}\n",
    "    \\omega^k_{pp} & = \\omega^k_{pp} = \\cos(\\theta_k), \\\\\n",
    "    \\omega^k_{pq} & = \\sin(\\theta_k), \\\\\n",
    "    \\omega^k_{qp} & = -\\sin(\\theta_k), \\\\\n",
    "    \\omega^k_{ii} & = 1, \\quad \\text{si } i \\neq p, \\\\\n",
    "    \\omega^k_{ij} & = 0, \\quad \\text{en el resto},\n",
    "\\end{align*}\n",
    "con $\\theta_k \\in (-\\frac{\\pi}{4}, \\frac{\\pi}{4}] \\setminus \\{0\\}$ tal que\n",
    "$$cotg(2\\theta_k) = \\frac{a^k_{qq} - a^k_{pp}}{2a^k_{pq}}.$$\n",
    "El método de Jacobi toma entonces\n",
    "$$A_{k+1} = \\Omega_k^tA\\Omega_k.$$\n",
    "\n",
    "La sucesión $\\{A_k\\}$ converge a una matriz diagonal cuyos elementos diagonales son los autovalores de $A$.\n",
    "Si además todos los autovalores son distintos, entonces la sucesión $\\{O_k\\}$, donde $O_k = \\Omega_1\\dots\\Omega_k$, converge a una matriz ortogonal $O$ cuyas columnas forman una base ortonormal de autovectores de $A$."
   ]
  },
  {
   "cell_type": "code",
   "execution_count": 12,
   "metadata": {},
   "outputs": [],
   "source": [
    "def jacobi(A, tolerancia = 1e-7, iteraciones = 100):\n",
    "    m, n = np.shape(A)\n",
    "    if m != n:\n",
    "        print(\"La matriz no es cuadrada.\")\n",
    "        return None\n",
    "\n",
    "    Ak = np.array(A, dtype = float)\n",
    "    mascara = np.ones((n, n))\n",
    "    np.fill_diagonal(mascara, 0)\n",
    "    Ok = np.eye(n)\n",
    "\n",
    "    iteracion = 0\n",
    "    maximo = abs(Ak*mascara).max()\n",
    "\n",
    "    while iteracion < iteraciones and maximo > tolerancia:\n",
    "        posicion_maxima = np.argmax(abs(Ak*mascara))\n",
    "        p = int(posicion_maxima/n)\n",
    "        q = posicion_maxima % n\n",
    "\n",
    "        if abs(Ak[p, p] - Ak[q, q]) < 1e-15:\n",
    "            theta = np.pi/4\n",
    "        else:\n",
    "            theta = np.arctan(2*Ak[p, q]/(Ak[q, q] - Ak[p, p]))/2\n",
    "\n",
    "        Omega = np.eye(n)\n",
    "        Omega[p, p] = np.cos(theta)\n",
    "        Omega[p, q] = np.sin(theta)\n",
    "        Omega[q, p] = -Omega[p, q]\n",
    "        Omega[q, q] = Omega[p, p]\n",
    "\n",
    "        Bk = np.transpose(Omega)@Ak@Omega\n",
    "        Ak = np.copy(Bk)\n",
    "        Ok = Ok@Omega\n",
    "\n",
    "        maximo = abs(Ak*mascara).max()\n",
    "        iteracion += 1\n",
    "\n",
    "    return np.diag(Ak), Ok"
   ]
  },
  {
   "attachments": {},
   "cell_type": "markdown",
   "metadata": {},
   "source": [
    "Aplicamos el método de Jacobi al segundo problema para hallar todos los autovalores de la matriz."
   ]
  },
  {
   "cell_type": "code",
   "execution_count": 13,
   "metadata": {},
   "outputs": [
    {
     "name": "stdout",
     "output_type": "stream",
     "text": [
      "Autovalores\n",
      " [ -2.46535845   2.10943466 -10.0647204  -12.1283007    5.94293604\n",
      "  16.60600885]\n",
      "Autovectores\n",
      " [[ 0.67488298  0.28327261 -0.27393137  0.22443065  0.55695938  0.16934678]\n",
      " [-0.32988959  0.74556703 -0.38964313 -0.27590355 -0.14870065  0.2919696 ]\n",
      " [-0.22232315 -0.02467034  0.52444763 -0.40767648  0.57644577  0.42003408]\n",
      " [ 0.08329419  0.19125615  0.44952646  0.56245193 -0.37050991  0.54843355]\n",
      " [-0.38641187 -0.47707232 -0.52551546  0.30778629  0.18661939  0.46622115]\n",
      " [ 0.47961045 -0.31480295 -0.14090415 -0.54426411 -0.40409189  0.43761314]]\n"
     ]
    }
   ],
   "source": [
    "autovalores, autovectores = jacobi(B)\n",
    "print(\"Autovalores\\n\", autovalores)\n",
    "print(\"Autovectores\\n\", autovectores)"
   ]
  }
 ],
 "metadata": {
  "kernelspec": {
   "display_name": "Python 3",
   "language": "python",
   "name": "python3"
  },
  "language_info": {
   "codemirror_mode": {
    "name": "ipython",
    "version": 3
   },
   "file_extension": ".py",
   "mimetype": "text/x-python",
   "name": "python",
   "nbconvert_exporter": "python",
   "pygments_lexer": "ipython3",
   "version": "3.11.4"
  },
  "orig_nbformat": 4
 },
 "nbformat": 4,
 "nbformat_minor": 2
}
