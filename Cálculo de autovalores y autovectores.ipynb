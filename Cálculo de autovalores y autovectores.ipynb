{
 "cells": [
  {
   "attachments": {},
   "cell_type": "markdown",
   "metadata": {},
   "source": [
    "# Cálculo de autovalores y autovectores\n",
    "Los métodos implementados son los siguientes:\n",
    "- Método de la potencia: `potencia`.\n",
    "- Método de la potencia inversa: `potencia_inversa`.\n",
    "- Método de la potencia desplazada: `potencia_desplazada`.\n",
    "- Método de la potencia inversa desplazada: `potencia_inversa_desplazada`."
   ]
  },
  {
   "cell_type": "code",
   "execution_count": 1,
   "metadata": {},
   "outputs": [],
   "source": [
    "from numpy import *\n",
    "from numpy.linalg import eig, norm, solve"
   ]
  },
  {
   "attachments": {},
   "cell_type": "markdown",
   "metadata": {},
   "source": [
    "## Problema propuesto\n",
    "Hallar información sobre los autovalores y autovectores de la matriz\n",
    "$$A = \\begin{pmatrix}\n",
    "    -33 & 36 & -27 & 18 & -9 \\\\\n",
    "    -33 & 51 & -45 & 30 & -15 \\\\\n",
    "    -19 & 38 & -45 & 34 & -17 \\\\\n",
    "    -9 & 18 & -27 & 27 & 15 \\\\\n",
    "    -3 & 6 & -9 & 12 & -9\n",
    "\\end{pmatrix}.$$"
   ]
  },
  {
   "cell_type": "code",
   "execution_count": 2,
   "metadata": {},
   "outputs": [
    {
     "name": "stdout",
     "output_type": "stream",
     "text": [
      "Autovalores\n",
      " [ 12.   6. -15.  -9.  -3.]\n",
      "Autovectores\n",
      " [[ 4.08248290e-01 -7.67654634e-15 -8.94427191e-01  9.49240207e-15\n",
      "   1.53647880e-15]\n",
      " [ 8.16496581e-01 -1.39299896e-14 -4.47213595e-01  4.08248290e-01\n",
      "   2.89219539e-15]\n",
      " [ 4.08248290e-01 -4.08248290e-01 -1.08161513e-15  8.16496581e-01\n",
      "   4.71990220e-15]\n",
      " [ 2.42114535e-16 -8.16496581e-01 -8.76481225e-16  4.08248290e-01\n",
      "   4.47213595e-01]\n",
      " [ 9.77469767e-17 -4.08248290e-01 -3.72970734e-17 -1.32364172e-15\n",
      "   8.94427191e-01]]\n"
     ]
    }
   ],
   "source": [
    "A = array([\n",
    "    [-33, 36, -27, 18, -9],\n",
    "    [-33, 51, -45, 30, -15],\n",
    "    [-19, 38, -45, 34, -17],\n",
    "    [-9, 18, -27, 27, -15],\n",
    "    [-3, 6, -9, 12, -9]\n",
    "])\n",
    "\n",
    "autovalores, autovectores = eig(A)\n",
    "print(\"Autovalores\\n\", autovalores)\n",
    "print(\"Autovectores\\n\", autovectores)"
   ]
  },
  {
   "attachments": {},
   "cell_type": "markdown",
   "metadata": {},
   "source": [
    "## Método de la potencia\n",
    "Sea $A \\in \\mathcal{M}_n(\\mathbb{C})$ y sea $x_0 \\in \\mathbb{C}^n \\setminus \\{0\\}$ unitario cualquiera.\n",
    "Para $k = 0, 1, 2, \\dots$, hacemos\n",
    "\\begin{align*}\n",
    "    y_{k+1} & = Ax_k, \\\\\n",
    "    x_{k+1} & = \\frac{y_{k+1}}{\\|y_{k+1}\\|}.\n",
    "\\end{align*}\n",
    "\n",
    "Bajo ciertas hipótesis, la sucesión $\\{x_k\\}$ converge hacia el autovector asociado al autovalor de mayor módulo de $A$."
   ]
  },
  {
   "cell_type": "code",
   "execution_count": 3,
   "metadata": {},
   "outputs": [],
   "source": [
    "def potencia(A, x0, iteraciones = 100):\n",
    "    tolerancia = 1e-15\n",
    "    x = x0\n",
    "    \n",
    "    iteracion = 0\n",
    "    error = 1\n",
    "    norma_anterior = 0\n",
    "\n",
    "    while iteracion < iteraciones and error >= tolerancia:\n",
    "        y = A@x\n",
    "        norma = norm(y)\n",
    "        x = y/norma\n",
    "        error = abs(norma - norma_anterior)\n",
    "\n",
    "        norma_anterior = norma\n",
    "        iteracion += 1\n",
    "\n",
    "    return x"
   ]
  },
  {
   "attachments": {},
   "cell_type": "markdown",
   "metadata": {},
   "source": [
    "Aplicamos el método de la potencia al problema para hallar el autovector asociado al autovalor de mayor módulo."
   ]
  },
  {
   "cell_type": "code",
   "execution_count": 4,
   "metadata": {},
   "outputs": [
    {
     "name": "stdout",
     "output_type": "stream",
     "text": [
      "[ 8.94427191e-01  4.47213595e-01 -7.28785455e-11  2.91832430e-16\n",
      "  1.09966374e-16]\n",
      "Asociado al autovalor -15.000000003519965\n"
     ]
    }
   ],
   "source": [
    "x0 = array([1, 0, 0, 0, 0])\n",
    "x = potencia(A, x0)\n",
    "print(x)\n",
    "\n",
    "autovalor = transpose(x)@A@x/(transpose(x)@x)\n",
    "print(\"Asociado al autovalor\", autovalor)"
   ]
  },
  {
   "attachments": {},
   "cell_type": "markdown",
   "metadata": {},
   "source": [
    "## Método de la potencia inversa\n",
    "Sea $A \\in \\mathcal{M}_n(\\mathbb{C})$ invertible y sea $x_0 \\in \\mathbb{C}^n \\setminus \\{0\\}$ unitario cualquiera.\n",
    "Para $k = 0, 1, 2, \\dots$, hacemos\n",
    "\\begin{align*}\n",
    "    y_{k+1} & = A^{-1}x_k \\Leftrightarrow Ay_{k+1} = x_k, \\\\\n",
    "    x_{k+1} & = \\frac{y_{k+1}}{\\|y_{k+1}\\|}.\n",
    "\\end{align*}\n",
    "\n",
    "Bajo ciertas hipótesis, la sucesión $\\{x_k\\}$ converge hacia el autovector asociado al autovalor de mayor módulo de $A^{-1}$ o, equivalentemente, el autovalor de menor módulo de $A$."
   ]
  },
  {
   "cell_type": "code",
   "execution_count": 5,
   "metadata": {},
   "outputs": [],
   "source": [
    "def potencia_inversa(A, x0, iteraciones = 100):\n",
    "    tolerancia = 1e-15\n",
    "    x = x0\n",
    "    \n",
    "    iteracion = 0\n",
    "    error = 1\n",
    "    norma_anterior = 0\n",
    "\n",
    "    while iteracion < iteraciones and error >= tolerancia:\n",
    "        y = solve(A, x)\n",
    "        norma = norm(y)\n",
    "        x = y/norma\n",
    "        error = abs(norma - norma_anterior)\n",
    "\n",
    "        norma_anterior = norma\n",
    "        iteracion += 1\n",
    "\n",
    "    return x"
   ]
  },
  {
   "attachments": {},
   "cell_type": "markdown",
   "metadata": {},
   "source": [
    "Aplicamos el método de la potencia inversa al problema para hallar el autovector asociado al autovalor de menor módulo."
   ]
  },
  {
   "cell_type": "code",
   "execution_count": 6,
   "metadata": {},
   "outputs": [
    {
     "name": "stdout",
     "output_type": "stream",
     "text": [
      "[ 1.29495032e-16  4.32110488e-16  6.15248593e-16 -4.47213595e-01\n",
      " -8.94427191e-01]\n",
      "Asociado al autovalor -3.000000000000001\n"
     ]
    }
   ],
   "source": [
    "x0 = array([1, 0, 0, 0, 0])\n",
    "x = potencia_inversa(A, x0)\n",
    "print(x)\n",
    "\n",
    "autovalor = transpose(x)@A@x/(transpose(x)@x)\n",
    "print(\"Asociado al autovalor\", autovalor)"
   ]
  },
  {
   "attachments": {},
   "cell_type": "markdown",
   "metadata": {},
   "source": [
    "## Método de la potencia desplazada\n",
    "Sea $A \\in \\mathcal{M}_n(\\mathbb{C})$, sea $x_0 \\in \\mathbb{C}^n \\setminus \\{0\\}$ unitario cualquiera y sea $\\mu \\in \\mathbb{C}$.\n",
    "Para $k = 0, 1, 2, \\dots$, hacemos\n",
    "\\begin{align*}\n",
    "    y_{k+1} & = (A - \\mu I)x_k, \\\\\n",
    "    x_{k+1} & = \\frac{y_{k+1}}{\\|y_{k+1}\\|}.\n",
    "\\end{align*}\n",
    "\n",
    "Bajo ciertas hipótesis, la sucesión $\\{x_k\\}$ converge hacia el autovector asociado al autovalor de mayor módulo de $A - \\mu I$ o, equivalentemente, el autuvalor más lejano de $\\mu$."
   ]
  },
  {
   "cell_type": "code",
   "execution_count": 7,
   "metadata": {},
   "outputs": [],
   "source": [
    "def potencia_desplazada(A, mu, x0, iteraciones = 100):\n",
    "    m, n = shape(A)\n",
    "    if m != n:\n",
    "        print(\"La matriz no es cuadrada.\")\n",
    "        return None\n",
    "    tolerancia = 1e-15\n",
    "    x = x0\n",
    "\n",
    "    iteracion = 0\n",
    "    error = 1\n",
    "    norma_anterior = 0\n",
    "\n",
    "    while iteracion < iteraciones and error >= tolerancia:\n",
    "        y = (A - mu*eye(n))@x\n",
    "        x = y/norm(y)\n",
    "\n",
    "        norma = norm(y)\n",
    "        x = y/norma\n",
    "        error = abs(norma - norma_anterior)\n",
    "\n",
    "        norma_anterior = norma\n",
    "        iteracion += 1\n",
    "\n",
    "    return x"
   ]
  },
  {
   "attachments": {},
   "cell_type": "markdown",
   "metadata": {},
   "source": [
    "Aplicamos el método de la potencia inversa desplazada al problema para hallar el autovector asociado al autovalor más lejano a -5."
   ]
  },
  {
   "cell_type": "code",
   "execution_count": 8,
   "metadata": {},
   "outputs": [
    {
     "name": "stdout",
     "output_type": "stream",
     "text": [
      "[-4.08248290e-01 -8.16496581e-01 -4.08248290e-01 -9.09640070e-17\n",
      "  3.60735248e-18]\n",
      "Asociado al autovalor 11.999999999999986\n"
     ]
    }
   ],
   "source": [
    "x0 = array([1, 0, 0, 0, 0])\n",
    "x = potencia_desplazada(A, -5, x0)\n",
    "print(x)\n",
    "\n",
    "autovalor = transpose(x)@A@x/(transpose(x)@x)\n",
    "print(\"Asociado al autovalor\", autovalor)"
   ]
  },
  {
   "attachments": {},
   "cell_type": "markdown",
   "metadata": {},
   "source": [
    "## Método de la potencia inversa desplazada\n",
    "Sea $A \\in \\mathcal{M}_n(\\mathbb{C})$, sea $x_0 \\in \\mathbb{C}^n \\setminus \\{0\\}$ unitario cualquiera y sea $\\mu \\notin sp(A)$.\n",
    "Para $k = 0, 1, 2, \\dots$, hacemos\n",
    "\\begin{align*}\n",
    "    y_{k+1} & = (A - \\mu I)^{-1}x_k \\Leftrightarrow (A - \\mu I)y_{k+1} = x_k, \\\\\n",
    "    x_{k+1} & = \\frac{y_{k+1}}{\\|y_{k+1}\\|}.\n",
    "\\end{align*}\n",
    "\n",
    "Bajo ciertas hipótesis, la sucesión $\\{x_k\\}$ converge hacia el autovector asociado al autovalor de mayor módulo de $(A - \\mu I)^{-1}$ o, equivalentemente, el autovalor más cercano a $\\mu$."
   ]
  },
  {
   "cell_type": "code",
   "execution_count": 9,
   "metadata": {},
   "outputs": [],
   "source": [
    "def potencia_inversa_desplazada(A, mu, x0, iteraciones = 100):\n",
    "    m, n = shape(A)\n",
    "    if m != n:\n",
    "        print(\"La matriz no es cuadrada.\")\n",
    "        return None\n",
    "    tolerancia = 1e-15\n",
    "    x = x0\n",
    "\n",
    "    iteracion = 0\n",
    "    error = 1\n",
    "    norma_anterior = 0\n",
    "\n",
    "    while iteracion < iteraciones and error >= tolerancia:\n",
    "        y = solve(A - mu*eye(n), x)\n",
    "        norma = norm(y)\n",
    "        x = y/norma\n",
    "        error = abs(norma - norma_anterior)\n",
    "\n",
    "        norma_anterior = norma\n",
    "        iteracion += 1\n",
    "\n",
    "    return x"
   ]
  },
  {
   "attachments": {},
   "cell_type": "markdown",
   "metadata": {},
   "source": [
    "Aplicamos el método de la potencia inversa desplazada al problema para hallar el autovector asociado al autovalor más cercano a 7."
   ]
  },
  {
   "cell_type": "code",
   "execution_count": 10,
   "metadata": {},
   "outputs": [
    {
     "name": "stdout",
     "output_type": "stream",
     "text": [
      "[-9.27912717e-16 -1.86984930e-15  4.08248290e-01  8.16496581e-01\n",
      "  4.08248290e-01]\n",
      "Asociado al autovalor 6.000000000000009\n"
     ]
    }
   ],
   "source": [
    "x0 = array([1, 0, 0, 0, 0])\n",
    "x = potencia_inversa_desplazada(A, 7, x0)\n",
    "print(x)\n",
    "\n",
    "autovalor = transpose(x)@A@x/(transpose(x)@x)\n",
    "print(\"Asociado al autovalor\", autovalor)"
   ]
  }
 ],
 "metadata": {
  "kernelspec": {
   "display_name": "Python 3",
   "language": "python",
   "name": "python3"
  },
  "language_info": {
   "codemirror_mode": {
    "name": "ipython",
    "version": 3
   },
   "file_extension": ".py",
   "mimetype": "text/x-python",
   "name": "python",
   "nbconvert_exporter": "python",
   "pygments_lexer": "ipython3",
   "version": "3.11.4"
  },
  "orig_nbformat": 4
 },
 "nbformat": 4,
 "nbformat_minor": 2
}
