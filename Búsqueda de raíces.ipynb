{
 "cells": [
  {
   "attachments": {},
   "cell_type": "markdown",
   "metadata": {},
   "source": [
    "# Búsqueda de raíces\n",
    "Los métodos implementados son los siguientes:\n",
    "- Método de dicotomía: `dicotomia`.\n",
    "- Método de regula falsi: `regula_falsi`.\n",
    "- Método de la secante: `secante`.\n",
    "- Método de Newton: `newton`.\n",
    "- Método de punto fijo: `punto_fijo`."
   ]
  },
  {
   "cell_type": "code",
   "execution_count": 1,
   "metadata": {},
   "outputs": [],
   "source": [
    "import numpy as np\n",
    "import matplotlib.pyplot as plt"
   ]
  },
  {
   "attachments": {},
   "cell_type": "markdown",
   "metadata": {},
   "source": [
    "## Problema propuesto\n",
    "Hallar la raíz de la función $f(x) = x - e^{-x}$ en el intervalo $[0, 1]$."
   ]
  },
  {
   "cell_type": "code",
   "execution_count": 2,
   "metadata": {},
   "outputs": [
    {
     "data": {
      "image/png": "[encoded data removed]",
      "text/plain": [
       "<Figure size 640x480 with 1 Axes>"
      ]
     },
     "metadata": {},
     "output_type": "display_data"
    }
   ],
   "source": [
    "def f(x):\n",
    "    return x - np.exp(-x)\n",
    "\n",
    "x = np.linspace(0, 1, 100)\n",
    "plt.plot(x, f(x))\n",
    "plt.plot(x, 0*x, color = \"black\", linewidth = 0.8)\n",
    "plt.legend([\"f(x)\", \"y = 0\"])\n",
    "plt.show()"
   ]
  },
  {
   "attachments": {},
   "cell_type": "markdown",
   "metadata": {},
   "source": [
    "## Método de dicotomía\n",
    "Sea $[a, b]$ un intervalo y sea $f$ una función continua en $[a, b]$.\n",
    "Supongamos que $f$ tiene un único cero $l$ en $[a, b]$ y además\n",
    "$$f(a)f(b) < 0.$$\n",
    "\n",
    "Sean $a_0 = a$ y $b_0 = b$.\n",
    "Para $n = 0, 1, 2, \\dots$, calculamos\n",
    "$$c_n = \\frac{a_n + b_n}{2}.$$\n",
    "- Si $f(c_n) = 0$, entonces $l = c_n$ y se detiene el algoritmo.\n",
    "- Si $f(a_n)f(c_n) < 0$, definimos\n",
    "    $$a_{n+1} = a_n, \\quad b_{n+1} = c_n.$$\n",
    "- En otro caso, definimos\n",
    "    $$a_{n+1} = c_n, \\quad b_{n+1} = b_n.$$"
   ]
  },
  {
   "cell_type": "code",
   "execution_count": 3,
   "metadata": {},
   "outputs": [],
   "source": [
    "def dicotomia(f, a, b, tolerancia = 1e-7, iteraciones = 100):\n",
    "    if f(a)*f(b) >= 0:\n",
    "        print(\"No se puede aplicar el método de dicotomía.\")\n",
    "        return None\n",
    "    an, bn = a, b\n",
    "    for iteracion in range(iteraciones):\n",
    "        cn = (an + bn)/2\n",
    "        fcn = f(cn)\n",
    "        if fcn == 0:\n",
    "            print(\"Se ha encontrado la raíz.\")\n",
    "            return cn\n",
    "        elif abs(fcn) <= tolerancia:\n",
    "            print(\"Se ha encontrado una aproximación satisfactoria tras\", iteracion, \"iteraciones.\")\n",
    "            return cn\n",
    "        elif f(an)*fcn < 0:\n",
    "            an = an\n",
    "            bn = cn\n",
    "        elif f(bn)*fcn < 0:\n",
    "            an = cn\n",
    "            bn = bn\n",
    "        else:\n",
    "            print(\"No se puede continuar con el método de dicotomía.\")\n",
    "            return None\n",
    "    print(\"Se ha alcanzado el máximo de iteraciones.\")\n",
    "    return cn"
   ]
  },
  {
   "attachments": {},
   "cell_type": "markdown",
   "metadata": {},
   "source": [
    "Aplicamos el método de dicotomía a nuestro problema."
   ]
  },
  {
   "cell_type": "code",
   "execution_count": 4,
   "metadata": {},
   "outputs": [
    {
     "name": "stdout",
     "output_type": "stream",
     "text": [
      "Se ha encontrado una aproximación satisfactoria tras 22 iteraciones.\n"
     ]
    },
    {
     "data": {
      "text/plain": [
       "0.5671433210372925"
      ]
     },
     "execution_count": 4,
     "metadata": {},
     "output_type": "execute_result"
    }
   ],
   "source": [
    "dicotomia(f, 0, 1)"
   ]
  },
  {
   "attachments": {},
   "cell_type": "markdown",
   "metadata": {},
   "source": [
    "## Método de regula-falsi\n",
    "Sea $[a, b]$ un intervalo y sea $f$ una función continua en $[a, b]$.\n",
    "Supongamos que $f$ tiene un único cero $l$ en $[a, b]$ y además\n",
    "$$f(a)f(b) < 0.$$\n",
    "\n",
    "Sean $a_0 = a$ y $b_0 = b$.\n",
    "Para $n = 0, 1, 2, \\dots$, calculamos\n",
    "$$c_n = b_n - \\frac{b_n - a_n}{f(b_n) - f(a_n)}f(b_n).$$\n",
    "- Si $f(c_n) = 0$, entonces $l = c_n$ y se detiene el algoritmo.\n",
    "- Si $f(a_n)f(c_n) < 0$, definimos\n",
    "    $$a_{n+1} = a_n, \\quad b_{n+1} = c_n.$$\n",
    "- En otro caso, definimos\n",
    "    $$a_{n+1} = c_n, \\quad b_{n+1} = b_n.$$"
   ]
  },
  {
   "cell_type": "code",
   "execution_count": 5,
   "metadata": {},
   "outputs": [],
   "source": [
    "def regula_falsi(f, a, b, tolerancia = 10e-7, iteraciones = 100):\n",
    "    if f(a)*f(b) >= 0:\n",
    "        print(\"No se puede aplicar el método de regula-falsi.\")\n",
    "        return None\n",
    "    an, bn = a, b\n",
    "    for iteracion in range(iteraciones):\n",
    "        cn = bn - (bn - an)/(f(bn) - f(an)) * f(bn)\n",
    "        fcn = f(cn)\n",
    "        if fcn == 0:\n",
    "            print(\"Se ha encontrado la raíz.\")\n",
    "            return cn\n",
    "        elif abs(fcn) <= tolerancia:\n",
    "            print(\"Se ha encontrado una aproximación satisfactoria tras\", iteracion, \"iteraciones.\")\n",
    "            return cn\n",
    "        elif f(an)*fcn < 0:\n",
    "            an = an\n",
    "            bn = cn\n",
    "        elif f(bn)*fcn < 0:\n",
    "            an = cn\n",
    "            bn = bn\n",
    "        else:\n",
    "            print(\"No se puede continuar con el método de regula-falsi.\")\n",
    "            return None\n",
    "    print(\"Se ha alcanzado el máximo de iteraciones.\")\n",
    "    return cn"
   ]
  },
  {
   "attachments": {},
   "cell_type": "markdown",
   "metadata": {},
   "source": [
    "Aplicamos el método de regula-falsi a nuestro problema."
   ]
  },
  {
   "cell_type": "code",
   "execution_count": 6,
   "metadata": {},
   "outputs": [
    {
     "name": "stdout",
     "output_type": "stream",
     "text": [
      "Se ha encontrado una aproximación satisfactoria tras 6 iteraciones.\n"
     ]
    },
    {
     "data": {
      "text/plain": [
       "0.5671433760339214"
      ]
     },
     "execution_count": 6,
     "metadata": {},
     "output_type": "execute_result"
    }
   ],
   "source": [
    "regula_falsi(f, 0, 1)"
   ]
  },
  {
   "attachments": {},
   "cell_type": "markdown",
   "metadata": {},
   "source": [
    "## Método de la secante\n",
    "Sea $[a, b]$ un intervalo y sea $f$ una función continua en $[a, b]$.\n",
    "Supongamos que $f$ tiene un único cero $l$ en $[a, b]$.\n",
    "\n",
    "Sean $x_0, x_1 \\in [a, b]$.\n",
    "Para $n = 1, 2, \\dots$,\n",
    "- Si $x_n$ no pertenece al dominio de la función o si\n",
    "    $$f(x_n) = f(x_{n-1}),$$\n",
    "    se detiene el algoritmo.\n",
    "- En otro caso, se calcula\n",
    "    $$x_{n+1} = x_n - \\frac{x_n - x_{n-1}}{f(x_n) - f(x_{n-1})}f(x_n).$$\n",
    "    - Si $f(x_{n+1}) = 0$, entonces $l = x_{n+1}$ y se detiene el algoritmo."
   ]
  },
  {
   "cell_type": "code",
   "execution_count": 7,
   "metadata": {},
   "outputs": [],
   "source": [
    "def secante(f, x0, x1, tolerancia = 10e-7, iteraciones = 100):\n",
    "    xa, xb = x0, x1\n",
    "    for iteracion in range(iteraciones):\n",
    "        xn = xb - (xb-xa)/(f(xb)-f(xa)) * f(xb)\n",
    "        fxn = f(xn)\n",
    "        if fxn == 0:\n",
    "            print(\"Se ha encontrado la raíz.\")\n",
    "            return xn\n",
    "        elif abs(fxn) <= tolerancia:\n",
    "            print(\"Se ha encontrado una aproximación satisfactoria tras\", iteracion, \"iteraciones.\")\n",
    "            return xn\n",
    "        elif xn >= x0 and xn <= x1:\n",
    "            xa = xb\n",
    "            xb = xn\n",
    "        else:\n",
    "            print(\"No se puede continuar con el método de la secante.\")\n",
    "            return None\n",
    "    print(\"Se ha alcanzado el máximo de iteraciones.\")\n",
    "    return xn"
   ]
  },
  {
   "attachments": {},
   "cell_type": "markdown",
   "metadata": {},
   "source": [
    "Aplicamos el método de la secante a nuestro problema con $x_0 = 0.1$ y $x_1 = 0.9$."
   ]
  },
  {
   "cell_type": "code",
   "execution_count": 8,
   "metadata": {},
   "outputs": [
    {
     "name": "stdout",
     "output_type": "stream",
     "text": [
      "Se ha encontrado una aproximación satisfactoria tras 3 iteraciones.\n"
     ]
    },
    {
     "data": {
      "text/plain": [
       "0.5671432929307719"
      ]
     },
     "execution_count": 8,
     "metadata": {},
     "output_type": "execute_result"
    }
   ],
   "source": [
    "secante(f, 0.1, 0.9)"
   ]
  },
  {
   "attachments": {},
   "cell_type": "markdown",
   "metadata": {},
   "source": [
    "## Método de Newton\n",
    "Sea $[a, b]$ un intervalo y sea $f$ una función derivable en $[a, b]$.\n",
    "Supongamos que $f$ tiene un único cero $l$ en $[a, b]$.\n",
    "\n",
    "Sea $x_0 \\in [a, b]$.\n",
    "Para $n = 0, 1, 2, \\dots$,\n",
    "- Si $x$ no pertenece al dominio de $f$, $f$ no es derivable en $x_n$ o\n",
    "    $$f'(x_n) = 0,$$\n",
    "    se detiene el algoritmo.\n",
    "- En otro caso, calcular\n",
    "    $$x_{n+1} = x_n - \\frac{f(x_n)}{f'(x_n)}.$$\n",
    "    - Si $f(x_{n+1}) = 0$, entonces $l = x_{n+1}$ y se detiene el algoritmo."
   ]
  },
  {
   "cell_type": "code",
   "execution_count": 9,
   "metadata": {},
   "outputs": [],
   "source": [
    "def newton(f, Df, x0, tolerancia = 10e-7, iteraciones = 100):\n",
    "    xn = x0\n",
    "    for iteracion in range(iteraciones):\n",
    "        fxn = f(xn)\n",
    "        if fxn == 0:\n",
    "            print(\"Se ha encontrado la raíz.\")\n",
    "            return xn\n",
    "        elif abs(fxn) <= tolerancia:\n",
    "            print(\"Se ha encontrado una aproximación satisfactoria tras\", iteracion, \"iteraciones.\")\n",
    "            return xn\n",
    "        Dfxn = Df(xn)\n",
    "        if Dfxn == 0:\n",
    "            print(\"No se puede continuar con el método de Newton.\")\n",
    "            return None\n",
    "        xn = xn - fxn/Dfxn\n",
    "    print(\"Se ha alcanzado el máximo de iteraciones.\")\n",
    "    return xn"
   ]
  },
  {
   "attachments": {},
   "cell_type": "markdown",
   "metadata": {},
   "source": [
    "Aplicamos el método de Newton a nuestro problema con $x_0 = 0.5$.\n",
    "La derivada de $f$ es\n",
    "$$f'(x) = 1 + e^{-x}.$$"
   ]
  },
  {
   "cell_type": "code",
   "execution_count": 10,
   "metadata": {},
   "outputs": [
    {
     "name": "stdout",
     "output_type": "stream",
     "text": [
      "Se ha encontrado una aproximación satisfactoria tras 2 iteraciones.\n"
     ]
    },
    {
     "data": {
      "text/plain": [
       "0.5671431650348622"
      ]
     },
     "execution_count": 10,
     "metadata": {},
     "output_type": "execute_result"
    }
   ],
   "source": [
    "def Df(x):\n",
    "    return 1 + np.exp(-x)\n",
    "\n",
    "newton(f, Df, 0.5)"
   ]
  },
  {
   "attachments": {},
   "cell_type": "markdown",
   "metadata": {},
   "source": [
    "## Métodos de punto fijo\n",
    "Sea $I$ un intervalo y sea $f$ una función continua en $I$.\n",
    "Supongamos que $f$ tiene un único cero $l$ en $I$.\n",
    "Sea $J$ un intervalo que contiene a $l$ en su interior y sea $g: J \\to \\mathbb{R}$ continua la función de iteración.\n",
    "\n",
    "$$\\begin{cases}\n",
    "x_0 \\in J, \\\\\n",
    "x_{n+1} = g(x_n), & n = 0, 1, 2, \\dots\n",
    "\\end{cases}$$"
   ]
  },
  {
   "cell_type": "code",
   "execution_count": 11,
   "metadata": {},
   "outputs": [],
   "source": [
    "def punto_fijo(g, x0, tolerancia = 10e-7, iteraciones = 100):\n",
    "    xn = x0\n",
    "    if xn == g(xn):\n",
    "        print(\"Se ha encontrado la raíz.\")\n",
    "        return xn\n",
    "    for iteracion in range(iteraciones):\n",
    "        ans = xn\n",
    "        xn = g(xn)\n",
    "        if (abs(xn-ans) <= tolerancia):\n",
    "            print(\"Se ha alcanzado una aproximación satisfactoria tras\", iteracion, \"iteraciones.\")\n",
    "            return xn\n",
    "    print(\"Se ha alcanzado el máximo de iteraciones.\")\n",
    "    return xn"
   ]
  },
  {
   "attachments": {},
   "cell_type": "markdown",
   "metadata": {},
   "source": [
    "Aplicamos el método de punto fijo a nuestro problema con $x_0 = 0.5$ y función de iteración\n",
    "$$g(x) = e^{-x}.$$\n",
    "Observamos que\n",
    "$$g(x) = x \\Leftrightarrow x - e^{-x} = 0.$$"
   ]
  },
  {
   "cell_type": "code",
   "execution_count": 12,
   "metadata": {},
   "outputs": [
    {
     "name": "stdout",
     "output_type": "stream",
     "text": [
      "Se ha alcanzado una aproximación satisfactoria tras 21 iteraciones.\n"
     ]
    },
    {
     "data": {
      "text/plain": [
       "0.5671430289524634"
      ]
     },
     "execution_count": 12,
     "metadata": {},
     "output_type": "execute_result"
    }
   ],
   "source": [
    "def g(x):\n",
    "    return np.exp(-x)\n",
    "\n",
    "punto_fijo(g, 0.5)"
   ]
  }
 ],
 "metadata": {
  "kernelspec": {
   "display_name": "Python 3",
   "language": "python",
   "name": "python3"
  },
  "language_info": {
   "codemirror_mode": {
    "name": "ipython",
    "version": 3
   },
   "file_extension": ".py",
   "mimetype": "text/x-python",
   "name": "python",
   "nbconvert_exporter": "python",
   "pygments_lexer": "ipython3",
   "version": "3.11.4"
  },
  "orig_nbformat": 4
 },
 "nbformat": 4,
 "nbformat_minor": 2
}
